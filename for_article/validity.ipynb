{
 "cells": [
  {
   "cell_type": "code",
   "execution_count": 8,
   "metadata": {},
   "outputs": [
    {
     "name": "stdout",
     "output_type": "stream",
     "text": [
      "{'mean': 0.966, 'median': 0.966, 'variance': 6.79e-05}\n",
      "{'mean': 0.954, 'median': 0.953, 'variance': 0.0002221}\n",
      "{'mean': 0.969, 'median': 0.971, 'variance': 2.75e-05}\n"
     ]
    }
   ],
   "source": [
    "import numpy as np\n",
    "\n",
    "def calculate_stats(values):\n",
    "    mean = np.mean(values)\n",
    "    median = np.median(values)\n",
    "    variance = np.var(values, ddof=0)\n",
    "    return {'mean': round(mean, 3), 'median': round(median, 3), 'variance': round(variance, 7)}\n",
    "\n",
    "\n",
    "chemf_val = [0.9552631578947368, 0.9671052631578947, 0.9644736842105263, 0.9783783783783784]\n",
    "chemVA_val = [0.9552631578947368, 0.95, 0.9355263157894737, 0.977027027027027]\n",
    "chemVAMet_val = [0.9736842105263158, 0.968421052631579, 0.9605263157894737, 0.972972972972973]\n",
    "\n",
    "stats = calculate_stats(chemf_val)\n",
    "print(stats)\n",
    "\n",
    "stats = calculate_stats(chemVA_val)\n",
    "print(stats)\n",
    "\n",
    "stats = calculate_stats(chemVAMet_val)\n",
    "print(stats)\n"
   ]
  }
 ],
 "metadata": {
  "kernelspec": {
   "display_name": "aizynthmodels",
   "language": "python",
   "name": "python3"
  },
  "language_info": {
   "codemirror_mode": {
    "name": "ipython",
    "version": 3
   },
   "file_extension": ".py",
   "mimetype": "text/x-python",
   "name": "python",
   "nbconvert_exporter": "python",
   "pygments_lexer": "ipython3",
   "version": "3.10.17"
  }
 },
 "nbformat": 4,
 "nbformat_minor": 2
}
