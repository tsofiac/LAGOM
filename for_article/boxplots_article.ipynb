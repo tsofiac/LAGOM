{
 "cells": [
  {
   "cell_type": "code",
   "execution_count": null,
   "metadata": {},
   "outputs": [],
   "source": [
    "import sys\n",
    "import os\n",
    "\n",
    "import matplotlib.pyplot as plt\n",
    "import numpy as np\n",
    "\n",
    "cwd = os.getcwd()\n",
    "sys.path.append(os.path.abspath(os.path.join(cwd, \"..\")))\n",
    "\n",
    "from evaluation.prediction_reader import score_result"
   ]
  },
  {
   "cell_type": "code",
   "execution_count": null,
   "metadata": {},
   "outputs": [],
   "source": [
    "def multi_boxplot(data, xlabel, ylabel, xticks, labels, location, save_figure=None, ylim=None):\n",
    "    \n",
    "    # plt.rcParams.update({\"font.size\": 12, \"font.family\": \"serif\", \"font.serif\": [\"NewComputerModern10\"]})\n",
    "    # plt.rcParams.update({'font.size': 12, 'font.family': 'sans-serif'})\n",
    "\n",
    "    plt.figure(figsize=(6, 3))\n",
    "\n",
    "    # colour_scheme = ['lightblue', 'orange', 'mediumseagreen', 'orchid']\n",
    "    colour_scheme = ['#52B297', '#8E4A93', '#009EE7', '#EF766E']\n",
    "\n",
    "    # Set the width of each box\n",
    "    box_width = 0.2\n",
    "\n",
    "\n",
    "    for i in range(len(data)):\n",
    "        boxprops = dict(linestyle='-', linewidth=1, color='black', facecolor=colour_scheme[i])\n",
    "        medianprops = dict(linestyle='-', linewidth=1, color='black')\n",
    "        meanprops = dict(linestyle='-', linewidth=1, color='none')\n",
    "\n",
    "        plt.boxplot(data[i], positions=np.arange(len(data[i])) + i * box_width, widths=box_width, patch_artist=True,\n",
    "                    boxprops=boxprops, showmeans=True, meanline=True, medianprops=medianprops, meanprops=meanprops, label=labels[i])\n",
    "        \n",
    "\n",
    "    plt.xlabel(xlabel)\n",
    "    plt.ylabel(ylabel)\n",
    "\n",
    "    central_positions = np.arange(len(data[0])) + (len(data) * box_width / 2) - (box_width / 2)\n",
    "    plt.xticks(central_positions, xticks)\n",
    "    \n",
    "    if ylim is not None:\n",
    "        plt.ylim(-0.005, ylim)\n",
    "    \n",
    "    plt.grid(axis='y', linestyle='--', alpha=0.7)\n",
    "\n",
    "    if location is not None:\n",
    "        plt.legend(loc=location)\n",
    "        # plt.legend(loc='upper center', bbox_to_anchor=(0.5, -0.15), ncol=len(data), frameon=False)\n",
    "\n",
    "    if save_figure is not None:\n",
    "        os.makedirs('figures', exist_ok=True)\n",
    "        plt.savefig(f'figures/{save_figure}.pdf', format='pdf', bbox_inches='tight')\n",
    "\n",
    "    \n",
    "    plt.show()"
   ]
  },
  {
   "cell_type": "code",
   "execution_count": null,
   "metadata": {},
   "outputs": [],
   "source": [
    "# Best Models\n",
    "bs = 4\n",
    "\n",
    "recall_base, precision_base, score_one_base, score_all_base = score_result('../evaluation/alohomora/result_metatrans.csv', bs, False)\n",
    "# recall_random, precision_random, score_one_random, score_all_random = score_result('../evaluation/alohomora/result_comb_metatrans_random_5_per_model.csv', bs, False)\n",
    "# recall_base, precision_base, score_one_base, score_all_base = score_result('../evaluation/alohomora/result_base_rand.csv', bs, False)\n",
    "# recall_random, precision_random, score_one_random, score_all_random = score_result('../evaluation/alohomora/result_comb_random_split_5_per_model.csv', bs, False)\n",
    "recall_initial, precision_initial, score_one_initial, score_all_initial = score_result('../evaluation/alohomora/result_chemf_base_metabolic.csv', bs, False)\n",
    "\n",
    "base = [precision_base[-2], recall_base[-2], score_one_base[-2], score_all_base[-2]]\n",
    "initial = [precision_initial[-2], recall_initial[-2], score_one_initial[-2], score_all_initial[-2]]\n",
    "\n",
    "xlabel = None\n",
    "xticks = ['Precision', 'Recall', 'At Least One Met.', 'All Met.']\n",
    "labels = ['ChemVA-Met Fine-Tuned Rand', 'Chemformer Fine-Tuned']\n",
    "\n",
    "ylabel = 'Proportion'\n",
    "data = [base, initial]\n",
    "multi_boxplot(data, xlabel, ylabel, xticks, labels, 'lower right', 'best_model', 1)"
   ]
  }
 ],
 "metadata": {
  "kernelspec": {
   "display_name": "aizynthmodels",
   "language": "python",
   "name": "python3"
  },
  "language_info": {
   "name": "python",
   "version": "3.10.17"
  }
 },
 "nbformat": 4,
 "nbformat_minor": 2
}
