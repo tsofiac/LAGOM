{
 "cells": [
  {
   "cell_type": "code",
   "execution_count": null,
   "metadata": {},
   "outputs": [],
   "source": []
  },
  {
   "cell_type": "code",
   "execution_count": 3,
   "metadata": {},
   "outputs": [],
   "source": [
    "import os\n",
    "import numpy as np\n",
    "import pandas as pd\n",
    "import matplotlib.pyplot as plt\n",
    "from collections import Counter\n",
    "from rdkit import Chem, DataStructs\n",
    "from rdkit.Chem import Descriptors, AllChem"
   ]
  },
  {
   "cell_type": "code",
   "execution_count": 6,
   "metadata": {},
   "outputs": [
    {
     "name": "stdout",
     "output_type": "stream",
     "text": [
      "DrugBank: 2153\n",
      "MetXBioDB: 1363\n",
      "Both: 539\n"
     ]
    }
   ],
   "source": [
    "def source_analysis_metabolic_dataset(csv_file):\n",
    "    import pandas as pd\n",
    "\n",
    "    df = pd.read_csv(csv_file)\n",
    "    categories = ['DrugBank', 'MetXBioDB', 'Both']\n",
    "    counts = df['source'].value_counts()\n",
    "    for cat in categories:\n",
    "        print(f\"{cat}: {counts.get(cat, 0)}\")\n",
    "\n",
    "after = \"../dataset/curated_data/combined_smiles_clean.csv\"\n",
    "source_analysis_metabolic_dataset(after)"
   ]
  },
  {
   "cell_type": "code",
   "execution_count": 10,
   "metadata": {},
   "outputs": [
    {
     "name": "stdout",
     "output_type": "stream",
     "text": [
      "Gloryx: \n",
      "47\n"
     ]
    }
   ],
   "source": [
    "def count_datapoints(csv):\n",
    "    pd.read_csv(csv)\n",
    "    n = len(csv)\n",
    "    print(n)\n",
    "\n",
    "print('Gloryx: ')\n",
    "count_datapoints('../dataset/curated_data/gloryx_smiles_clean.csv')\n"
   ]
  }
 ],
 "metadata": {
  "kernelspec": {
   "display_name": "aizynthmodels",
   "language": "python",
   "name": "python3"
  },
  "language_info": {
   "codemirror_mode": {
    "name": "ipython",
    "version": 3
   },
   "file_extension": ".py",
   "mimetype": "text/x-python",
   "name": "python",
   "nbconvert_exporter": "python",
   "pygments_lexer": "ipython3",
   "version": "3.10.17"
  }
 },
 "nbformat": 4,
 "nbformat_minor": 2
}
