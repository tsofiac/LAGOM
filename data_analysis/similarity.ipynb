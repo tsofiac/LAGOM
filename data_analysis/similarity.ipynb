{
 "cells": [
  {
   "cell_type": "code",
   "execution_count": 3,
   "metadata": {},
   "outputs": [],
   "source": [
    "import pandas as pd\n",
    "import matplotlib.pyplot as plt\n",
    "from itertools import chain\n",
    "from rdkit import Chem\n",
    "from rdkit.Chem import Descriptors\n",
    "\n",
    "from rdkit import DataStructs\n",
    "from rdkit.Chem.Fingerprints import FingerprintMols\n",
    "from rdkit import Chem\n",
    "from rdkit.Chem import AllChem\n",
    "from rdkit import DataStructs\n",
    "import numpy as np"
   ]
  },
  {
   "cell_type": "code",
   "execution_count": 12,
   "metadata": {},
   "outputs": [],
   "source": [
    "def get_dataset(data_set_path): \n",
    "    # return pd.read_csv(f'../../dataset/processed_data/{data_set}.csv')  \n",
    "    return pd.read_csv(data_set_path, sep=',')\n",
    "\n",
    "def finger_print_similarity(dataset):\n",
    "    parent_smiles = dataset['parent_smiles'].tolist()\n",
    "    metabolite_smiles = dataset['child_smiles'].tolist()\n",
    "\n",
    "    parent_mol = [Chem.MolFromSmiles(x) for x in parent_smiles]\n",
    "    metabolite_mol = [Chem.MolFromSmiles(x) for x in metabolite_smiles]\n",
    "\n",
    "    parent_fps = [Chem.RDKFingerprint(x) for x in parent_mol]\n",
    "    metabolite_fps = [Chem.RDKFingerprint(x) for x in metabolite_mol]\n",
    "\n",
    "    # parent_fps = [AllChem.GetMorganFingerprintAsBitVect(x, radius=2, nBits=1024) for x in parent_mol]\n",
    "    # metabolite_fps = [AllChem.GetMorganFingerprintAsBitVect(x, radius=2, nBits=1024) for x in metabolite_mol]\n",
    "\n",
    "    fingerprint_similarities = []\n",
    "    for i in range(len(parent_smiles)):\n",
    "        \n",
    "        s = DataStructs.TanimotoSimilarity(parent_fps[i],metabolite_fps[i]) \n",
    "        fingerprint_similarities.append(s)\n",
    "\n",
    "    return fingerprint_similarities  \n",
    "\n",
    "def molecular_weight_analysis(dataset): \n",
    "    parent_weights = []\n",
    "    metabolite_weights = []\n",
    "\n",
    "    parents = dataset[\"parent_smiles\"]\n",
    "    metabolites = dataset[\"child_smiles\"]\n",
    "    for parent, metabolite in zip(parents, metabolites): \n",
    "        parent_mol_weight = Descriptors.ExactMolWt(Chem.MolFromSmiles(parent))\n",
    "        metabolite_mol_weight = Descriptors.ExactMolWt(Chem.MolFromSmiles(metabolite))\n",
    "        # diff_mol_weight = abs(parent_mol_weight - metabolite_mol_weight)\n",
    "\n",
    "        # mol_weights.append([metabolite_mol_weight, diff_mol_weight])\n",
    "    # metab_weights, diff_weights = list(zip(*mol_weights))\n",
    "    \n",
    "    # unique_parents = get_unique_parent_dataset(dataset)[\"parent_smiles\"]\n",
    "    # parent_weights = [Descriptors.ExactMolWt(Chem.MolFromSmiles(parent)) for parent in unique_parents]\n",
    "   \n",
    "    # create_pychart_double_hist(parent_weights, \"Parents\", metab_weights, \"Metabolites\", 30, \"molecular_weights\")\n",
    "    # create_pychart_hist(diff_weights, 16, \"molecular_weights_diff\")\n",
    "\n",
    "    return parent_weights, metabolite_weights\n",
    "\n"
   ]
  },
  {
   "cell_type": "code",
   "execution_count": 9,
   "metadata": {},
   "outputs": [
    {
     "data": {
      "image/png": "[encoded data removed]",
      "text/plain": [
       "<Figure size 640x480 with 1 Axes>"
      ]
     },
     "metadata": {},
     "output_type": "display_data"
    }
   ],
   "source": [
    "metxbiodb = get_dataset(\"/projects/cc/se_users/larsson_kbvs588/test/MasterThesis/dataset/dummy_data/smiles_metxbiodb.csv\")\n",
    "metxbiodb_similarities = finger_print_similarity(metxbiodb)\n",
    "\n",
    "plt.hist(metxbiodb_similarities, bins=100)\n",
    "plt.xlabel('Value')\n",
    "plt.ylabel('Count')\n",
    "plt.show()"
   ]
  },
  {
   "cell_type": "code",
   "execution_count": null,
   "metadata": {},
   "outputs": [],
   "source": []
  }
 ],
 "metadata": {
  "kernelspec": {
   "display_name": "aizynthmodels",
   "language": "python",
   "name": "python3"
  },
  "language_info": {
   "codemirror_mode": {
    "name": "ipython",
    "version": 3
   },
   "file_extension": ".py",
   "mimetype": "text/x-python",
   "name": "python",
   "nbconvert_exporter": "python",
   "pygments_lexer": "ipython3",
   "version": "3.10.16"
  }
 },
 "nbformat": 4,
 "nbformat_minor": 2
}
